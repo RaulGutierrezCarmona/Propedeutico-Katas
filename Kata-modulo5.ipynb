{
 "cells": [
  {
   "cell_type": "markdown",
   "metadata": {},
   "source": [
    "Ejercicio 1 Utilizar operadores aritmeticos"
   ]
  },
  {
   "cell_type": "code",
   "execution_count": 12,
   "metadata": {},
   "outputs": [
    {
     "name": "stdout",
     "output_type": "stream",
     "text": [
      "Distance in Kms.:  -628949330\n",
      "Distance in Miles:  -390577533.93\n"
     ]
    }
   ],
   "source": [
    "# Crear variables para almacenar las dos distancias (Tierra y Júpiter)\n",
    "# ¡Asegúrate de quitar las comas!\n",
    "\n",
    "first_planet = 149597870\n",
    "second_planet = 778547200\n",
    "\n",
    "#Distance in km\n",
    "subtraction_km = (first_planet-second_planet)\n",
    "print('Distance in Kms.: ',  subtraction_km)\n",
    "\n",
    "#Equivalence to miles\n",
    "equivalence_mi = subtraction_km * 0.621\n",
    "print('Distance in Miles: ',  equivalence_mi)"
   ]
  },
  {
   "cell_type": "markdown",
   "metadata": {},
   "source": [
    "Ejercicio 2 Convertir cadenas en números y obtener valores absolutos"
   ]
  },
  {
   "cell_type": "code",
   "execution_count": 11,
   "metadata": {},
   "outputs": [
    {
     "name": "stdout",
     "output_type": "stream",
     "text": [
      "Distance value in Miles with out ABS:  -390577533.93\n",
      "Distance value in Miles with out ABS:  390577533.93\n"
     ]
    }
   ],
   "source": [
    "# Keep the user entry\n",
    "first_planet = input('Introduzca la distancia del sol para el primer planeta en KM')\n",
    "second_planet = input('Introduzca la distancia desde el sol para el segundo planeta en KM')\n",
    "# Convierte las cadenas de ambos planetas a números enteros\n",
    "first_planet = int(first_planet)\n",
    "second_planet = int(second_planet)\n",
    "# Realizar el cálculo y determinar el valor absoluto\n",
    "subtraction_km = first_planet - second_planet\n",
    "#print(subtraction_km)\n",
    "\n",
    "# Convertir de KM a Millas\n",
    "equivalence_mi = subtraction_km * 0.621\n",
    "print('Distance value in Miles with out ABS: ', equivalence_mi)\n",
    "print('Distance value in Miles with ABS: ', abs(equivalence_mi))"
   ]
  }
 ],
 "metadata": {
  "interpreter": {
   "hash": "1ac1c026baf9ef0fd3ec55db76ec83a55d847028d38f903c1379ae318e83d1d1"
  },
  "kernelspec": {
   "display_name": "Python 3.10.2 64-bit",
   "language": "python",
   "name": "python3"
  },
  "language_info": {
   "codemirror_mode": {
    "name": "ipython",
    "version": 3
   },
   "file_extension": ".py",
   "mimetype": "text/x-python",
   "name": "python",
   "nbconvert_exporter": "python",
   "pygments_lexer": "ipython3",
   "version": "3.10.2"
  },
  "orig_nbformat": 4
 },
 "nbformat": 4,
 "nbformat_minor": 2
}
