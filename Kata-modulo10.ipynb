{
 "cells": [
  {
   "cell_type": "markdown",
   "metadata": {},
   "source": [
    "Tracebacks\n",
    "Intentamos abrir un archivo inexistente, por lo que se mostrará un error."
   ]
  },
  {
   "cell_type": "code",
   "execution_count": null,
   "metadata": {},
   "outputs": [],
   "source": [
    "open(\"/path/to/mars.jpg\")\n",
    "---------------------------------------------------------------------------\n",
    "FileNotFoundError                         Traceback (most recent call last)\n",
    "d:\\Proyectos\\LaunchX\\PrimeraMision\\Modulo10\\Módulo10Katas.ipynb Cell 1' in <module>\n",
    "----> <a href='vscode-notebook-cell:/d%3A/Proyectos/LaunchX/PrimeraMision/Modulo10/M%C3%B3dulo10Katas.ipynb#ch0000000?line=0'>1</a> open(\"/path/to/mars.jpg\")\n",
    "\n",
    "FileNotFoundError: [Errno 2] No such file or directory: '/path/to/mars.jpg'\n",
    "def main():\n",
    "    open('/path/to/mars.jpg')\n",
    "\n",
    "\n",
    "if __name__ == '__main__':\n",
    "    main()\n",
    "---------------------------------------------------------------------------\n",
    "FileNotFoundError                         Traceback (most recent call last)\n",
    "d:\\Proyectos\\LaunchX\\PrimeraMision\\Modulo10\\Módulo10Katas.ipynb Cell 3' in <module>\n",
    "      <a href='vscode-notebook-cell:/d%3A/Proyectos/LaunchX/PrimeraMision/Modulo10/M%C3%B3dulo10Katas.ipynb#ch0000001?line=1'>2</a>     open('/path/to/mars.jpg')\n",
    "      <a href='vscode-notebook-cell:/d%3A/Proyectos/LaunchX/PrimeraMision/Modulo10/M%C3%B3dulo10Katas.ipynb#ch0000001?line=4'>5</a> if __name__ == '__main__':\n",
    "----> <a href='vscode-notebook-cell:/d%3A/Proyectos/LaunchX/PrimeraMision/Modulo10/M%C3%B3dulo10Katas.ipynb#ch0000001?line=5'>6</a>     main()\n",
    "\n",
    "d:\\Proyectos\\LaunchX\\PrimeraMision\\Modulo10\\Módulo10Katas.ipynb Cell 3' in main()\n",
    "      <a href='vscode-notebook-cell:/d%3A/Proyectos/LaunchX/PrimeraMision/Modulo10/M%C3%B3dulo10Katas.ipynb#ch0000001?line=0'>1</a> def main():\n",
    "----> <a href='vscode-notebook-cell:/d%3A/Proyectos/LaunchX/PrimeraMision/Modulo10/M%C3%B3dulo10Katas.ipynb#ch0000001?line=1'>2</a>     open('/path/to/mars.jpg')\n",
    "\n",
    "FileNotFoundError: [Errno 2] No such file or directory: '/path/to/mars.jpg'"
   ]
  },
  {
   "cell_type": "markdown",
   "metadata": {},
   "source": [
    "Controlando las excepciones\n",
    "Try / Except de bloques"
   ]
  },
  {
   "cell_type": "code",
   "execution_count": null,
   "metadata": {},
   "outputs": [],
   "source": [
    "def main():\n",
    "    try:\n",
    "        open('./config.txt')\n",
    "    except FileNotFoundError:\n",
    "        print('Couldn\\'t find the config.txt file')  # Si el archivo no existe mandará error.\n",
    "\n",
    "if __name__ == '__main__':\n",
    "    main()\n",
    "\n",
    "def main():\n",
    "    try:\n",
    "        open('./config.txt')\n",
    "    except Exception:\n",
    "        print('Couldn\\'t find the config.txt file')  # Si el archivo no existe mandará error.\n",
    "\n",
    "if __name__ == '__main__':\n",
    "    main()\n",
    "\n",
    "def main():\n",
    "    try:\n",
    "        configuration = open('config.txt')\n",
    "    except FileNotFoundError:\n",
    "        print(\"Couldn't find the config.txt file!\")\n",
    "    except IsADirectoryError:\n",
    "        print(\"Found config.txt but it is a directory, couldn't read it\")\n",
    "\n",
    "if __name__ == '__main__':\n",
    "    main()\n",
    "\n",
    "def main():\n",
    "    try:\n",
    "        configuration = open('config.txt')\n",
    "    except FileNotFoundError:\n",
    "        print(\"Couldn't find the config.txt file!\")\n",
    "    except IsADirectoryError:\n",
    "        print(\"Found config.txt but it is a directory, couldn't read it\")\n",
    "    except (BlockingIOError, TimeoutError):\n",
    "        print(\"Filesystem under heavy load, can't complete reading configuration file\")\n",
    "\n",
    "if __name__ == '__main__':\n",
    "    main()"
   ]
  },
  {
   "cell_type": "markdown",
   "metadata": {},
   "source": [
    "Acceder al error asociado a la excepción"
   ]
  },
  {
   "cell_type": "code",
   "execution_count": null,
   "metadata": {},
   "outputs": [],
   "source": [
    "def main():\n",
    "    try:\n",
    "        configuration = open('config.txt')\n",
    "    except FileNotFoundError as err:\n",
    "        print(\"Got a problem trying to read the file:\", err)\n",
    "\n",
    "if __name__ == '__main__':\n",
    "    main()\n",
    "    "
   ]
  },
  {
   "cell_type": "markdown",
   "metadata": {},
   "source": [
    "def main():\n",
    "    \n",
    "    try:\n",
    "        open('config.txt')\n",
    "    except OSError as err:\n",
    "        if err.errno == 2:\n",
    "            print(\"Couldn't find the config.txt file!\")\n",
    "        elif err.errno == 13:\n",
    "            print('Found config.txt but couldn\\'t read it')\n",
    "\n",
    "if __name__ == '__main__':\n",
    "    main()"
   ]
  },
  {
   "cell_type": "markdown",
   "metadata": {},
   "source": [
    "Generación de excepciones"
   ]
  },
  {
   "cell_type": "code",
   "execution_count": null,
   "metadata": {},
   "outputs": [],
   "source": [
    "def water_left(astronauts, water_left, days_left):\n",
    "    daily_usage = astronauts * 11\n",
    "    total_usage = daily_usage * days_left\n",
    "    total_water_left = water_left - total_usage\n",
    "    \n",
    "    return f\"Total water left after {days_left} days is: {total_water_left} liters\"\n",
    "water_left(5, 100, 2)"
   ]
  },
  {
   "cell_type": "code",
   "execution_count": null,
   "metadata": {},
   "outputs": [],
   "source": [
    "def water_left(astronauts, water_left, days_left):\n",
    "    daily_usage = astronauts * 11\n",
    "    total_usage = daily_usage * days_left\n",
    "    total_water_left = water_left - total_usage\n",
    "    \n",
    "    # Definimos la excepción\n",
    "    if total_water_left < 0:\n",
    "        raise RuntimeError(f\"There is not enough water for {astronauts} astronauts after {days_left} days!\")\n",
    "    \n",
    "    \n",
    "    return f\"Total water left after {days_left} days is: {total_water_left} liters\"\n",
    "try:\n",
    "    water_left(3, 100, 2)\n",
    "except RuntimeError as err:\n",
    "    print(err)\n",
    "try:\n",
    "    water_left(\"3\", 100, 2)  # \"3\" es un tipo no admitido\n",
    "except RuntimeError as err:\n",
    "    print(err)"
   ]
  },
  {
   "cell_type": "code",
   "execution_count": null,
   "metadata": {},
   "outputs": [],
   "source": [
    "def water_left(astronauts, water_left, days_left):\n",
    "    for argument in [astronauts, water_left, days_left]:\n",
    "        try:\n",
    "            argument / 10\n",
    "        except TypeError:\n",
    "            raise TypeError(f\"All arguments must be of type int, but received: '{argument}'\")\n",
    "\n",
    "    \n",
    "    daily_usage = astronauts * 11\n",
    "    total_usage = daily_usage * days_left\n",
    "    total_water_left = water_left - total_usage\n",
    "\n",
    "    if total_water_left < 0:\n",
    "        raise RuntimeError(f\"There is not enough water for {astronauts} astronauts after {days_left} days!\")\n",
    "    \n",
    "    \n",
    "    return f\"Total water left after {days_left} days is: {total_water_left} liters\"\n",
    "water_left(\"3\", \"200\", None)"
   ]
  }
 ],
 "metadata": {
  "interpreter": {
   "hash": "1ac1c026baf9ef0fd3ec55db76ec83a55d847028d38f903c1379ae318e83d1d1"
  },
  "kernelspec": {
   "display_name": "Python 3.10.2 64-bit",
   "language": "python",
   "name": "python3"
  },
  "language_info": {
   "name": "python",
   "version": "3.10.2"
  },
  "orig_nbformat": 4
 },
 "nbformat": 4,
 "nbformat_minor": 2
}
